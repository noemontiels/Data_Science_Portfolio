## **Supply and demand analysis of the labour market in the Data environment: Global wages and conditions**.

   
**Data sources**:
 
- Kaggle and Glassdoor for data on Data profiles.

**Summary**:

- **Hypothesis**: 'The United States is the best country to work in the data environment'

- **Questions to answer**:   

    - Are there specific regions of the world where Data Scientists have better salaries and working conditions compared to others?   

- **Objective**: To identify the regions of the world that offer the best salaries and working conditions for data environment employees.

- **EDA**:
    
    - Collect data on Data profiles and skills from Kaggle and Glassdoor.
    - Analyse the geographical distribution of job offers and data environment professionals.
    - Compare salaries offered in different regions and sectors.
    - Visualise trends in salary and working conditions for data environment globally.

- **Potential for ML**:
    - Forecasting: Predict the evolution of salaries and working conditions for data environment in different parts of the world.   
    
    - Ranking models: Develop models to rank regions according to competitive pay and working conditions for data environment.
